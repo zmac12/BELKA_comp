{
 "cells": [
  {
   "cell_type": "code",
   "execution_count": null,
   "id": "eb5ea338af81fe6e",
   "metadata": {},
   "outputs": [],
   "source": [
    "# Initialize duckdb\n",
    "import duckdb\n",
    "import pandas as pd\n",
    "\n",
    "parquet_file = 'train.parquet'\n",
    "\n",
    "# Start a DuckDB session\n",
    "con = duckdb.connect(database='my_duckdb.db', read_only=False)\n",
    "\n",
    "# Create a virtual table that points to the parquet file\n",
    "con.execute(f\"CREATE VIEW IF NOT EXISTS train AS SELECT * FROM parquet_scan('{parquet_file}')\")\n",
    "\n",
    "# Define your query\n",
    "query = 'SELECT * FROM train WHERE binds = 1 LIMIT 10'\n",
    "\n",
    "# Execute the query and load the result into a pandas DataFrame\n",
    "df = pd.read_sql_query(query, con)"
   ]
  }
 ],
 "metadata": {
  "kernelspec": {
   "display_name": ".venv",
   "language": "python",
   "name": "python3"
  },
  "language_info": {
   "codemirror_mode": {
    "name": "ipython",
    "version": 3
   },
   "file_extension": ".py",
   "mimetype": "text/x-python",
   "name": "python",
   "nbconvert_exporter": "python",
   "pygments_lexer": "ipython3",
   "version": "3.11.2"
  }
 },
 "nbformat": 4,
 "nbformat_minor": 5
}
