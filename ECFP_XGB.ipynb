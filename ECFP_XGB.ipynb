{
 "cells": [
  {
   "cell_type": "code",
   "execution_count": 1,
   "id": "eb5ea338af81fe6e",
   "metadata": {},
   "outputs": [],
   "source": [
    "# Initialize duckdb\n",
    "import duckdb\n",
    "import polars as pl\n",
    "\n",
    "parquet_file = \"train.parquet\"\n",
    "\n",
    "# Start a DuckDB session\n",
    "con = duckdb.connect(database=\"my_duckdb.db\", read_only=False)\n",
    "\n",
    "# Create a virtual table that points to the parquet file\n",
    "con.execute(\n",
    "    f\"CREATE VIEW IF NOT EXISTS train AS SELECT * FROM parquet_scan('{parquet_file}')\"\n",
    ")\n",
    "\n",
    "df = con.execute(\n",
    "    \"\"\"SELECT molecule_smiles as smiles, protein_name, binds FROM train\"\"\"\n",
    ").fetch_arrow_table()\n",
    "\n",
    "df = pl.from_arrow(df)"
   ]
  },
  {
   "cell_type": "code",
   "execution_count": 2,
   "id": "5e009c43",
   "metadata": {},
   "outputs": [
    {
     "name": "stdout",
     "output_type": "stream",
     "text": [
      "(98415610, 3)\n",
      "(98415610, 3)\n",
      "(98415610, 3)\n"
     ]
    }
   ],
   "source": [
    "BRD4_records = df.filter(df['protein_name'] == 'BRD4')\n",
    "HSA_records = df.filter(df['protein_name'] == 'HSA')\n",
    "sEH_records = df.filter(df['protein_name'] == 'sEH')\n",
    "\n",
    "print(BRD4_records.shape)\n",
    "print(HSA_records.shape)\n",
    "print(sEH_records.shape)\n"
   ]
  },
  {
   "cell_type": "code",
   "execution_count": 3,
   "id": "e93cc3e0",
   "metadata": {},
   "outputs": [
    {
     "name": "stdout",
     "output_type": "stream",
     "text": [
      "Number of BRD4 records that bind: 456964\n",
      "Number of HSA records that bind: 408410\n",
      "Number of sEH records that bind: 724532\n"
     ]
    }
   ],
   "source": [
    "BRD4_binded_records_count = BRD4_records.filter(BRD4_records['binds'] == 1).shape[0]\n",
    "HSA_binded_records_count = HSA_records.filter(HSA_records['binds'] == 1).shape[0]\n",
    "sEH_binded_records_count = sEH_records.filter(sEH_records['binds'] == 1).shape[0]\n",
    "\n",
    "print(f\"Number of BRD4 records that bind: {BRD4_binded_records_count}\")\n",
    "print(f\"Number of HSA records that bind: {HSA_binded_records_count}\")\n",
    "print(f\"Number of sEH records that bind: {sEH_binded_records_count}\")"
   ]
  },
  {
   "cell_type": "code",
   "execution_count": 4,
   "id": "502f19b2",
   "metadata": {},
   "outputs": [
    {
     "name": "stdout",
     "output_type": "stream",
     "text": [
      "shape: (5, 3)\n",
      "┌─────────────────────────────────┬──────────────┬───────┐\n",
      "│ smiles                          ┆ protein_name ┆ binds │\n",
      "│ ---                             ┆ ---          ┆ ---   │\n",
      "│ str                             ┆ str          ┆ i64   │\n",
      "╞═════════════════════════════════╪══════════════╪═══════╡\n",
      "│ C#CC[C@@H](CC(=O)N[Dy])Nc1nc(N… ┆ BRD4         ┆ 1     │\n",
      "│ C#CC[C@@H](CC(=O)N[Dy])Nc1nc(N… ┆ BRD4         ┆ 1     │\n",
      "│ C#CC[C@@H](CC(=O)N[Dy])Nc1nc(N… ┆ BRD4         ┆ 1     │\n",
      "│ C#CC[C@@H](CC(=O)N[Dy])Nc1nc(N… ┆ BRD4         ┆ 1     │\n",
      "│ C#CC[C@@H](CC(=O)N[Dy])Nc1nc(N… ┆ BRD4         ┆ 1     │\n",
      "└─────────────────────────────────┴──────────────┴───────┘\n",
      "shape: (5, 3)\n",
      "┌─────────────────────────────────┬──────────────┬───────┐\n",
      "│ smiles                          ┆ protein_name ┆ binds │\n",
      "│ ---                             ┆ ---          ┆ ---   │\n",
      "│ str                             ┆ str          ┆ i64   │\n",
      "╞═════════════════════════════════╪══════════════╪═══════╡\n",
      "│ C#CCOc1ccc(CNc2nc(NCC3CCCN3c3c… ┆ BRD4         ┆ 0     │\n",
      "│ C#CCOc1ccc(CNc2nc(NCc3cccc(Br)… ┆ BRD4         ┆ 0     │\n",
      "│ C#CCOc1ccc(CNc2nc(NCc3ccc(OCC#… ┆ BRD4         ┆ 0     │\n",
      "│ C#CCOc1ccc(CNc2nc(NCCNC(=O)C(=… ┆ BRD4         ┆ 0     │\n",
      "│ C#CCOc1ccc(CNc2nc(NCC(=O)NCC=C… ┆ BRD4         ┆ 0     │\n",
      "└─────────────────────────────────┴──────────────┴───────┘\n"
     ]
    }
   ],
   "source": [
    "frac_for_positives = 0.1  # 10% for positives\n",
    "frac_for_negatives = 0.01  # 1% for negatives\n",
    "\n",
    "# Filter the DataFrame into two based on 'Binds'\n",
    "positives = BRD4_records.filter(pl.col(\"binds\") == 1)\n",
    "negatives = BRD4_records.filter(pl.col(\"binds\") == 0)\n",
    "\n",
    "print(positives.head())\n",
    "print(negatives.head())"
   ]
  },
  {
   "cell_type": "code",
   "execution_count": 5,
   "id": "5a2cd84e",
   "metadata": {},
   "outputs": [
    {
     "name": "stdout",
     "output_type": "stream",
     "text": [
      "shape: (5, 3)\n",
      "┌─────────────────────────────────┬──────────────┬───────┐\n",
      "│ smiles                          ┆ protein_name ┆ binds │\n",
      "│ ---                             ┆ ---          ┆ ---   │\n",
      "│ str                             ┆ str          ┆ i64   │\n",
      "╞═════════════════════════════════╪══════════════╪═══════╡\n",
      "│ COc1ncc(Nc2nc(Nc3nnn[nH]3)nc(N… ┆ BRD4         ┆ 1     │\n",
      "│ Cc1cccc(CCCNc2nc(Nc3ccc(=O)n(C… ┆ BRD4         ┆ 1     │\n",
      "│ CC(CNc1nc(Nc2cc(Cl)ncn2)nc(NC(… ┆ BRD4         ┆ 1     │\n",
      "│ CCCCC(Nc1nc(Nc2ccc(C(C)(C)C#N)… ┆ BRD4         ┆ 1     │\n",
      "│ COCc1ccccc1CNc1nc(NCC(O)CS(C)=… ┆ BRD4         ┆ 1     │\n",
      "└─────────────────────────────────┴──────────────┴───────┘\n"
     ]
    }
   ],
   "source": [
    "import polars as pl\n",
    "\n",
    "# Define the fractions for positives and negatives\n",
    "frac_for_positives = 0.1  # 10% for positive\n",
    "frac_for_negatives = 0.01  # 1% for negatives\n",
    "\n",
    "# Sample the positives dataframe\n",
    "positives_sampled = positives.sample(\n",
    "    fraction=frac_for_positives,\n",
    "    shuffle=True,\n",
    ")\n",
    "\n",
    "# Sample the negatives dataframe\n",
    "negatives_sampled = negatives.sample(\n",
    "    fraction=frac_for_negatives,\n",
    "    shuffle=True,\n",
    ")\n",
    "\n",
    "# Concatenate the sampled dataframes\n",
    "sampled_df = pl.concat([positives_sampled, negatives_sampled])\n",
    "# Reset the index of the sampled dataframe sampled_df = sampled_df.reset_index(drop=True) # Print the sampled dataframe print(sampled_df)\n",
    "\n",
    "print(sampled_df.head())"
   ]
  },
  {
   "cell_type": "code",
   "execution_count": 7,
   "id": "71888b13",
   "metadata": {},
   "outputs": [
    {
     "name": "stderr",
     "output_type": "stream",
     "text": [
      "C:\\Users\\Zach PC\\AppData\\Local\\Temp\\ipykernel_31812\\3070957975.py:19: MapWithoutReturnDtypeWarning: Calling `map_elements` without specifying `return_dtype` can lead to unpredictable results. Specify `return_dtype` to silence this warning.\n",
      "  df = sampled_df.with_columns(\n",
      "c:\\Users\\Zach PC\\kaggle_projects\\BELKA_comp\\.venv\\Lib\\site-packages\\xgboost\\core.py:160: UserWarning: [14:09:03] WARNING: C:\\buildkite-agent\\builds\\buildkite-windows-cpu-autoscaling-group-i-0b3782d1791676daf-1\\xgboost\\xgboost-ci-windows\\src\\common\\error_msg.cc:27: The tree method `gpu_hist` is deprecated since 2.0.0. To use GPU training, set the `device` parameter to CUDA instead.\n",
      "\n",
      "    E.g. tree_method = \"hist\", device = \"cuda\"\n",
      "\n",
      "  warnings.warn(smsg, UserWarning)\n",
      "c:\\Users\\Zach PC\\kaggle_projects\\BELKA_comp\\.venv\\Lib\\site-packages\\xgboost\\core.py:160: UserWarning: [14:09:03] WARNING: C:\\buildkite-agent\\builds\\buildkite-windows-cpu-autoscaling-group-i-0b3782d1791676daf-1\\xgboost\\xgboost-ci-windows\\src\\learner.cc:742: \n",
      "Parameters: { \"n_estimators\" } are not used.\n",
      "\n",
      "  warnings.warn(smsg, UserWarning)\n",
      "c:\\Users\\Zach PC\\kaggle_projects\\BELKA_comp\\.venv\\Lib\\site-packages\\xgboost\\core.py:160: UserWarning: [14:09:07] WARNING: C:\\buildkite-agent\\builds\\buildkite-windows-cpu-autoscaling-group-i-0b3782d1791676daf-1\\xgboost\\xgboost-ci-windows\\src\\common\\error_msg.cc:27: The tree method `gpu_hist` is deprecated since 2.0.0. To use GPU training, set the `device` parameter to CUDA instead.\n",
      "\n",
      "    E.g. tree_method = \"hist\", device = \"cuda\"\n",
      "\n",
      "  warnings.warn(smsg, UserWarning)\n",
      "c:\\Users\\Zach PC\\kaggle_projects\\BELKA_comp\\.venv\\Lib\\site-packages\\xgboost\\core.py:160: UserWarning: [14:09:07] WARNING: C:\\buildkite-agent\\builds\\buildkite-windows-cpu-autoscaling-group-i-0b3782d1791676daf-1\\xgboost\\xgboost-ci-windows\\src\\c_api\\c_api.cc:1240: Saving into deprecated binary model format, please consider using `json` or `ubj`. Model format will default to JSON in XGBoost 2.2 if not specified.\n",
      "  warnings.warn(smsg, UserWarning)\n"
     ]
    },
    {
     "name": "stdout",
     "output_type": "stream",
     "text": [
      "Average precision: 0.1884010336330857\n"
     ]
    }
   ],
   "source": [
    "import polars as pl\n",
    "import xgboost as xgb\n",
    "import numpy as np\n",
    "from rdkit import Chem\n",
    "from rdkit.Chem import AllChem\n",
    "from sklearn.model_selection import train_test_split\n",
    "from sklearn.metrics import average_precision_score\n",
    "\n",
    "# Function to convert SMILES to bit vector\n",
    "def smiles_to_bitvec(smiles):\n",
    "    mol = Chem.MolFromSmiles(smiles)\n",
    "    if mol:\n",
    "        bit_vec = AllChem.GetMorganFingerprintAsBitVect(mol, radius=2, nBits=1024)\n",
    "        return np.array(list(map(int, bit_vec.ToBitString())))  # Convert to NumPy array of integers\n",
    "    return np.zeros(1024, dtype=int)  # Return an array of zeros if SMILES is invalid\n",
    "\n",
    "\n",
    "# Apply the function and prepare the dataset\n",
    "df = sampled_df.with_columns(\n",
    "    pl.col(\"smiles\").map_elements(smiles_to_bitvec).alias(\"ecfp\")\n",
    ")\n",
    "# Extract features and labels\n",
    "X = np.stack(df[\"ecfp\"].to_numpy())\n",
    "y = df[\"binds\"].to_numpy()\n",
    "\n",
    "X_train, X_test, Y_train, Y_test = train_test_split(X, y, test_size=0.2, random_state=42)\n",
    "\n",
    "# Define XGBoost parameters\n",
    "params = {\n",
    "    'device': 'cuda',\n",
    "    'objective': 'binary:logistic',\n",
    "    'eval_metric': 'logloss',\n",
    "    'learning_rate': 0.1,\n",
    "    'max_depth': 5,\n",
    "    'alpha': 10,\n",
    "    'n_estimators': 100\n",
    "}\n",
    "\n",
    "# Train the model\n",
    "dtrain = xgb.DMatrix(X_train, label=Y_train)\n",
    "model = xgb.train(params, dtrain, num_boost_round=10)\n",
    "\n",
    "# Save the model\n",
    "model.save_model(\"model.bin\")\n",
    "\n",
    "# Validate the model\n",
    "dtest = xgb.DMatrix(X_test, label=Y_test)\n",
    "y_pred = model.predict(dtest)\n",
    "\n",
    "y_pred_binary = (y_pred > 0.5).astype(int)\n",
    "average_precision = average_precision_score(Y_test, y_pred_binary)\n",
    "print(\"Average precision:\", average_precision)\n"
   ]
  },
  {
   "cell_type": "code",
   "execution_count": null,
   "id": "80ca9156",
   "metadata": {},
   "outputs": [],
   "source": [
    "#Score to beat: 0.1884"
   ]
  }
 ],
 "metadata": {
  "kernelspec": {
   "display_name": "Python 3 (ipykernel)",
   "language": "python",
   "name": "python3"
  },
  "language_info": {
   "codemirror_mode": {
    "name": "ipython",
    "version": 3
   },
   "file_extension": ".py",
   "mimetype": "text/x-python",
   "name": "python",
   "nbconvert_exporter": "python",
   "pygments_lexer": "ipython3",
   "version": "3.11.2"
  }
 },
 "nbformat": 4,
 "nbformat_minor": 5
}
