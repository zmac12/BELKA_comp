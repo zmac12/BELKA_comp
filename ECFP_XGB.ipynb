{
 "cells": [
  {
   "cell_type": "code",
   "execution_count": 2,
   "id": "0ad88a8d",
   "metadata": {},
   "outputs": [
    {
     "name": "stdout",
     "output_type": "stream",
     "text": [
      "Requirement already satisfied: pyarrow in c:\\users\\zach pc\\kaggle_projects\\belka_comp\\.venv\\lib\\site-packages (16.0.0)Note: you may need to restart the kernel to use updated packages.\n",
      "\n",
      "Requirement already satisfied: numpy>=1.16.6 in c:\\users\\zach pc\\kaggle_projects\\belka_comp\\.venv\\lib\\site-packages (from pyarrow) (1.26.4)\n"
     ]
    },
    {
     "name": "stderr",
     "output_type": "stream",
     "text": [
      "\n",
      "[notice] A new release of pip available: 22.3.1 -> 24.0\n",
      "[notice] To update, run: python.exe -m pip install --upgrade pip\n"
     ]
    }
   ],
   "source": [
    "%pip install pyarrow duckdb polars\n",
    "import pyarrow as pa\n",
    "import pyarrow.parquet as pq\n",
    "import pandas as pd"
   ]
  },
  {
   "cell_type": "code",
   "execution_count": 1,
   "id": "eb5ea338af81fe6e",
   "metadata": {},
   "outputs": [],
   "source": [
    "# Initialize duckdb\n",
    "import duckdb\n",
    "import pandas as pd\n",
    "import polars as pl\n",
    "import pyarrow as pa\n",
    "\n",
    "parquet_file = 'train.parquet'\n",
    "\n",
    "# Start a DuckDB session\n",
    "con = duckdb.connect(database=':memory:', read_only=False)\n",
    "\n",
    "# Create a virtual table that points to the parquet file\n",
    "con.execute(f\"CREATE VIEW IF NOT EXISTS train AS SELECT * FROM parquet_scan('{parquet_file}')\")\n",
    "\n",
    "df = con.execute(\"\"\"SELECT molecule_smiles as smiles, protein_name, binds FROM train\"\"\").fetch_arrow_table()\n",
    "\n",
    "df = pl.from_arrow(df)\n"
   ]
  },
  {
   "cell_type": "code",
   "execution_count": 6,
   "id": "95b4002a",
   "metadata": {},
   "outputs": [
    {
     "name": "stdout",
     "output_type": "stream",
     "text": [
      "shape: (5, 3)\n",
      "┌─────────────────────────────────┬──────────────┬───────┐\n",
      "│ smiles                          ┆ protein_name ┆ binds │\n",
      "│ ---                             ┆ ---          ┆ ---   │\n",
      "│ str                             ┆ str          ┆ i64   │\n",
      "╞═════════════════════════════════╪══════════════╪═══════╡\n",
      "│ C#CCOc1ccc(CNc2nc(NCC3CCCN3c3c… ┆ BRD4         ┆ 0     │\n",
      "│ C#CCOc1ccc(CNc2nc(NCC3CCCN3c3c… ┆ HSA          ┆ 0     │\n",
      "│ C#CCOc1ccc(CNc2nc(NCC3CCCN3c3c… ┆ sEH          ┆ 0     │\n",
      "│ C#CCOc1ccc(CNc2nc(NCc3cccc(Br)… ┆ BRD4         ┆ 0     │\n",
      "│ C#CCOc1ccc(CNc2nc(NCc3cccc(Br)… ┆ HSA          ┆ 0     │\n",
      "└─────────────────────────────────┴──────────────┴───────┘\n",
      "(295246830, 3)\n",
      "shape: (1, 3)\n",
      "┌─────────┬──────────────┬─────────┐\n",
      "│ smiles  ┆ protein_name ┆ binds   │\n",
      "│ ---     ┆ ---          ┆ ---     │\n",
      "│ u32     ┆ u32          ┆ u32     │\n",
      "╞═════════╪══════════════╪═════════╡\n",
      "│ 1589906 ┆ 1589906      ┆ 1589906 │\n",
      "└─────────┴──────────────┴─────────┘\n"
     ]
    }
   ],
   "source": [
    "print(df.head())\n",
    "\n",
    "print(df.shape) \n",
    "\n",
    "binded_records = df.filter(df['binds'] == 1)\n",
    "\n",
    "print(binded_records.count())"
   ]
  },
  {
   "cell_type": "code",
   "execution_count": 8,
   "id": "5e009c43",
   "metadata": {},
   "outputs": [
    {
     "name": "stdout",
     "output_type": "stream",
     "text": [
      "(98415610, 3)\n",
      "(98415610, 3)\n",
      "(98415610, 3)\n"
     ]
    }
   ],
   "source": [
    "BRD4_records = df.filter(df['protein_name'] == 'BRD4')\n",
    "HSA_records = df.filter(df['protein_name'] == 'HSA')\n",
    "sEH_records = df.filter(df['protein_name'] == 'sEH')\n",
    "\n",
    "print(BRD4_records.shape)\n",
    "print(HSA_records.shape)\n",
    "print(sEH_records.shape)\n"
   ]
  },
  {
   "cell_type": "code",
   "execution_count": 9,
   "id": "e93cc3e0",
   "metadata": {},
   "outputs": [
    {
     "name": "stdout",
     "output_type": "stream",
     "text": [
      "Number of BRD4 records that bind: 456964\n",
      "Number of HSA records that bind: 408410\n",
      "Number of sEH records that bind: 724532\n"
     ]
    }
   ],
   "source": [
    "BRD4_binded_records_count = BRD4_records.filter(BRD4_records['binds'] == 1).shape[0]\n",
    "HSA_binded_records_count = HSA_records.filter(HSA_records['binds'] == 1).shape[0]\n",
    "sEH_binded_records_count = sEH_records.filter(sEH_records['binds'] == 1).shape[0]\n",
    "\n",
    "print(f\"Number of BRD4 records that bind: {BRD4_binded_records_count}\")\n",
    "print(f\"Number of HSA records that bind: {HSA_binded_records_count}\")\n",
    "print(f\"Number of sEH records that bind: {sEH_binded_records_count}\")"
   ]
  },
  {
   "cell_type": "code",
   "execution_count": 13,
   "id": "71888b13",
   "metadata": {},
   "outputs": [
    {
     "name": "stderr",
     "output_type": "stream",
     "text": [
      "C:\\Users\\Zach PC\\AppData\\Local\\Temp\\ipykernel_29484\\2913246956.py:13: DeprecationWarning: `apply` is deprecated. It has been renamed to `map_elements`.\n",
      "  pl.col(\"smiles\").apply(smiles_to_bitvec).alias(\"bit_vector\")\n",
      "C:\\Users\\Zach PC\\AppData\\Local\\Temp\\ipykernel_29484\\2913246956.py:12: MapWithoutReturnDtypeWarning: Calling `map_elements` without specifying `return_dtype` can lead to unpredictable results. Specify `return_dtype` to silence this warning.\n",
      "  df = BRD4_records.with_columns(\n"
     ]
    }
   ],
   "source": [
    "from rdkit import Chem\n",
    "from rdkit.Chem import AllChem\n",
    "\n",
    "def smiles_to_bitvec(smiles):\n",
    "    mol = Chem.MolFromSmiles(smiles)\n",
    "    if mol:  # Check if molecule is successfully created\n",
    "        bit_vec = AllChem.GetMorganFingerprintAsBitVect(mol, radius=2, nBits=1024)\n",
    "        return bit_vec.ToBitString()  # Convert bit vector to a string to store in Polars\n",
    "    return None  # Return None or appropriate value if SMILES is invalid\n",
    "\n",
    "# Apply the function to the 'smiles' column\n",
    "df = BRD4_records.with_columns(\n",
    "    pl.col(\"smiles\").apply(smiles_to_bitvec).alias(\"bit_vector\")\n",
    ")"
   ]
  },
  {
   "cell_type": "code",
   "execution_count": 12,
   "id": "00c8ebef",
   "metadata": {},
   "outputs": [
    {
     "ename": "AttributeError",
     "evalue": "'ExplicitBitVect' object has no attribute 'GetNumAtoms'",
     "output_type": "error",
     "traceback": [
      "\u001b[1;31m---------------------------------------------------------------------------\u001b[0m",
      "\u001b[1;31mAttributeError\u001b[0m                            Traceback (most recent call last)",
      "Cell \u001b[1;32mIn[12], line 2\u001b[0m\n\u001b[0;32m      1\u001b[0m ecfp\u001b[38;5;241m.\u001b[39mGetNumBits()\n\u001b[1;32m----> 2\u001b[0m \u001b[43mecfp\u001b[49m\u001b[38;5;241;43m.\u001b[39;49m\u001b[43mGetNumAtoms\u001b[49m()\n",
      "\u001b[1;31mAttributeError\u001b[0m: 'ExplicitBitVect' object has no attribute 'GetNumAtoms'"
     ]
    }
   ],
   "source": []
  },
  {
   "cell_type": "code",
   "execution_count": 5,
   "id": "f090174a",
   "metadata": {},
   "outputs": [],
   "source": [
    "from rdkit import Chem\n",
    "from rdkit.Chem import AllChem\n",
    "import numpy as np\n",
    "\n",
    "def smiles_to_ecfp(smiles_string, radius=2, n_bits=2048):\n",
    "    mol = Chem.MolFromSmiles(smiles_string)\n",
    "    if mol:\n",
    "        ecfp = AllChem.GetMorganFingerprintAsBitVect(mol, radius, nBits=n_bits)\n",
    "        # Convert the bit vector to a numpy array directly\n",
    "        \n",
    "        arr = np.zeros((n_bits,), dtype=np.int8)\n",
    "        AllChem.DataStructs.ConvertToNumpyArray(ecfp, arr)\n",
    "        return arr\n",
    "    return np.zeros((n_bits,), dtype=np.int8)\n",
    "\n",
    "def process_batch(df_polars):\n",
    "    ecfps = [smiles_to_ecfp(sm) for sm in df_polars['smiles'].to_list()]\n",
    "    df_polars = df_polars.with_column(pl.Series(\"ecfp\", ecfps))\n",
    "    return df_polars"
   ]
  },
  {
   "cell_type": "code",
   "execution_count": 6,
   "id": "6505ee5c",
   "metadata": {},
   "outputs": [],
   "source": [
    "import xgboost as xgb\n",
    "import numpy as np\n",
    "\n",
    "params = {\n",
    "    'device':'cuda',\n",
    "    'tree_method': 'gpu_hist',\n",
    "    'objective': 'binary:logistic',\n",
    "    'eval_metric': 'logloss',\n",
    "    'learning_rate': 0.1,\n",
    "    'max_depth': 5,\n",
    "    'alpha': 10,\n",
    "    'n_estimators': 100\n",
    "}\n",
    "\n",
    "# Placeholder for the model\n",
    "model = None\n",
    "\n",
    "# Process each batch\n",
    "df_polars = process_batch(df)\n",
    "X = np.stack(df_polars['ecfp'].to_numpy())\n",
    "y = df_polars['binds'].to_numpy()\n",
    "\n",
    "dtrain = xgb.DMatrix(X, label=y)\n",
    "model = xgb.train(params, dtrain, num_boost_round=10, xgb_model=model)\n",
    "\n",
    "model.save_model(\"model.bin\")\n"
   ]
  },
  {
   "cell_type": "code",
   "execution_count": null,
   "id": "9c4f26e2",
   "metadata": {},
   "outputs": [],
   "source": []
  }
 ],
 "metadata": {
  "kernelspec": {
   "display_name": ".venv",
   "language": "python",
   "name": "python3"
  },
  "language_info": {
   "codemirror_mode": {
    "name": "ipython",
    "version": 3
   },
   "file_extension": ".py",
   "mimetype": "text/x-python",
   "name": "python",
   "nbconvert_exporter": "python",
   "pygments_lexer": "ipython3",
   "version": "3.11.2"
  }
 },
 "nbformat": 4,
 "nbformat_minor": 5
}
